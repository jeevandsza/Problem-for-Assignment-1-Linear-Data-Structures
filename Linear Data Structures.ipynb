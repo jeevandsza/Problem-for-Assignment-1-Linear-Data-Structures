{
 "cells": [
  {
   "cell_type": "markdown",
   "id": "essential-market",
   "metadata": {},
   "source": [
    "# 1.Write a program to find all pairs of an integer array whose sum is equal to a given number?"
   ]
  },
  {
   "cell_type": "code",
   "execution_count": 7,
   "id": "persistent-benjamin",
   "metadata": {},
   "outputs": [
    {
     "name": "stdout",
     "output_type": "stream",
     "text": [
      "Enter the sum for array elements: 12\n",
      "(7, 5)\n",
      "(4, 8)\n"
     ]
    }
   ],
   "source": [
    "class Pairs():\n",
    "\n",
    "    #constructor\n",
    "    def __init__(self, sum, n, arr ):\n",
    "\n",
    "        self.sum = sum\n",
    "        self.n = n\n",
    "        self.arr = arr\n",
    "        \n",
    "    #function finds the pairs for the passed array\n",
    "    def find_pairs(self):\n",
    "        \n",
    "        #loop to print the pairs\n",
    "        #after checking\n",
    "        for i in range(0, self.n):\n",
    "            for j in range(i+1, self.n):\n",
    "                if (self.arr[i] + self.arr[j] == self.sum):\n",
    "                    #returns pairs in array from 0  to n-1\n",
    "                    print(\"(\", self.arr[i], \",\", \" \", self.arr[j], \")\", sep = \"\")\n",
    "\n",
    "def Main():\n",
    "    sum = int(input(\"Enter the sum for array elements: \"))\n",
    "    #Change the array elements to find pairs\n",
    "    #for a different array\n",
    "    arr = [1, 7, -1, 5, 4, 6, 8]\n",
    "    #\"n\" contains the length of array\n",
    "    n = len(arr)\n",
    "    #sum, n, and arr is passed to \n",
    "    obj_Pairs = Pairs(sum, n, arr)\n",
    "    obj_Pairs.find_pairs()\n",
    "\n",
    "if __name__ == \"__main__\":\n",
    "    Main()"
   ]
  },
  {
   "cell_type": "markdown",
   "id": "auburn-andrews",
   "metadata": {},
   "source": [
    "# 2. Write a program to reverse an array in place? In place means you cannot create a new array. You have to update the original array."
   ]
  },
  {
   "cell_type": "code",
   "execution_count": 9,
   "id": "framed-queensland",
   "metadata": {},
   "outputs": [
    {
     "name": "stdout",
     "output_type": "stream",
     "text": [
      "Updated new array is\n",
      "[6, 5, 4, 3, 2, 1]\n"
     ]
    }
   ],
   "source": [
    "def reverseList(A, start, end):\n",
    "    while start < end:\n",
    "        A[start], A[end] = A[end], A[start]\n",
    "        start += 1\n",
    "        end -= 1\n",
    "\n",
    "# Driver function to test above function\n",
    "A = [1, 2, 3, 4, 5, 6]\n",
    "\n",
    "reverseList(A, 0, 5)\n",
    "print(\"Updated new array is\")\n",
    "print(A)\n"
   ]
  },
  {
   "cell_type": "markdown",
   "id": "editorial-wrist",
   "metadata": {},
   "source": [
    "# 3. Write a program to check if two strings are a rotation of each other?"
   ]
  },
  {
   "cell_type": "code",
   "execution_count": 16,
   "id": "arbitrary-fabric",
   "metadata": {},
   "outputs": [
    {
     "name": "stdout",
     "output_type": "stream",
     "text": [
      "Strings are rotations of each other\n"
     ]
    }
   ],
   "source": [
    "\n",
    "def areRotations(string1, string2):\n",
    "\tsize1 = len(string1)\n",
    "\tsize2 = len(string2)\n",
    "\ttemp = ''\n",
    "\n",
    "\t# Check if sizes of two strings are same\n",
    "\tif size1 != size2:\n",
    "\t\treturn 0\n",
    "\n",
    "\t# Create a temp string with value str1.str1\n",
    "\ttemp = string1 + string1\n",
    "\n",
    "\n",
    "\tif (temp.count(string2)> 0):\n",
    "\t\treturn 1\n",
    "\telse:\n",
    "\t\treturn 0\n",
    "\n",
    "\n",
    "string1 = \"ABCD\"\n",
    "string2 = \"CDAB\"\n",
    "\n",
    "if areRotations(string1, string2):\n",
    "    print(\"Strings are rotations of each other\")\n",
    "else:\n",
    "    print(\"Strings are not rotations of each other\")\n"
   ]
  },
  {
   "cell_type": "markdown",
   "id": "bright-cookbook",
   "metadata": {},
   "source": [
    "# 4.Write a program to print the first non-repeated character from a string?"
   ]
  },
  {
   "cell_type": "code",
   "execution_count": 23,
   "id": "nasty-general",
   "metadata": {},
   "outputs": [
    {
     "name": "stdout",
     "output_type": "stream",
     "text": [
      "First non-repeating character is C\n"
     ]
    }
   ],
   "source": [
    "NO_OF_CHARS = 256\n",
    "\n",
    "# Returns an array of size 256 containing count\n",
    "# of characters in the passed char array\n",
    "def getCharCountArray(string):\n",
    "\tcount = [0] * NO_OF_CHARS\n",
    "\tfor i in string:\n",
    "\t\tcount[ord(i)]+= 1\n",
    "\treturn count\n",
    "\n",
    "# The function returns index of first non-repeating\n",
    "# character in a string. If all characters are repeating\n",
    "# then returns -1\n",
    "def firstNonRepeating(string):\n",
    "\tcount = getCharCountArray(string)\n",
    "\tindex = -1\n",
    "\tk = 0\n",
    "\n",
    "\tfor i in string:\n",
    "\t\tif count[ord(i)] == 1:\n",
    "\t\t\tindex = k\n",
    "\t\t\tbreak\n",
    "\t\tk += 1\n",
    "\n",
    "\treturn index\n",
    "\n",
    "# Driver program to test above function\n",
    "string = \"LOCALHOST\"\n",
    "index = firstNonRepeating(string)\n",
    "if index == 1:\n",
    "\tprint (\"Either all characters are repeating or string is empty\")\n",
    "else:\n",
    "\tprint (\"First non-repeating character is \" + string[index])\n",
    "\n"
   ]
  },
  {
   "cell_type": "markdown",
   "id": "differential-sense",
   "metadata": {},
   "source": [
    "# 5. Read about the Tower of Hanoi algorithm. Write a program to implement it."
   ]
  },
  {
   "cell_type": "code",
   "execution_count": 25,
   "id": "protective-serve",
   "metadata": {},
   "outputs": [
    {
     "name": "stdout",
     "output_type": "stream",
     "text": [
      "Move disk 1 from source A to destination C\n",
      "Move disk 2 from source A to destination B\n",
      "Move disk 1 from source C to destination B\n",
      "Move disk 3 from source A to destination C\n",
      "Move disk 1 from source B to destination A\n",
      "Move disk 2 from source B to destination C\n",
      "Move disk 1 from source A to destination C\n",
      "Move disk 4 from source A to destination B\n",
      "Move disk 1 from source C to destination B\n",
      "Move disk 2 from source C to destination A\n",
      "Move disk 1 from source B to destination A\n",
      "Move disk 3 from source C to destination B\n",
      "Move disk 1 from source A to destination C\n",
      "Move disk 2 from source A to destination B\n",
      "Move disk 1 from source C to destination B\n"
     ]
    }
   ],
   "source": [
    "\n",
    "def TowerOfHanoi(n , source, destination, auxiliary):\n",
    "\tif n==1:\n",
    "\t\tprint( \"Move disk 1 from source\",source,\"to destination\",destination)\n",
    "\t\treturn\n",
    "\tTowerOfHanoi(n-1, source, auxiliary, destination)\n",
    "\tprint (\"Move disk\",n,\"from source\",source,\"to destination\",destination)\n",
    "\tTowerOfHanoi(n-1, auxiliary, destination, source)\n",
    "\n",
    "\n",
    "n = 4\n",
    "TowerOfHanoi(n,'A','B','C')\n",
    "# A, C, B are the name of rods\n",
    "\n",
    "\n"
   ]
  },
  {
   "cell_type": "markdown",
   "id": "municipal-congress",
   "metadata": {},
   "source": [
    "# 6.Read about infix, prefix and postfix expressions. Write a program to convert postfix to prefix expression."
   ]
  },
  {
   "cell_type": "code",
   "execution_count": 26,
   "id": "abroad-program",
   "metadata": {},
   "outputs": [
    {
     "name": "stdout",
     "output_type": "stream",
     "text": [
      "Prefix :  +AB-CD\n"
     ]
    }
   ],
   "source": [
    "\n",
    "# function to check if\n",
    "# character is operator or not\n",
    "\n",
    "\n",
    "def isOperator(x):\n",
    "\n",
    "\tif x == \"+\":\n",
    "\t\treturn True\n",
    "\n",
    "\tif x == \"-\":\n",
    "\t\treturn True\n",
    "\n",
    "\tif x == \"/\":\n",
    "\t\treturn True\n",
    "\n",
    "\tif x == \"*\":\n",
    "\t\treturn True\n",
    "\n",
    "\treturn False\n",
    "\n",
    "# Convert postfix to Prefix expression\n",
    "\n",
    "\n",
    "def postToPre(post_exp):\n",
    "\n",
    "\ts = []\n",
    "\n",
    "\t# length of expression\n",
    "\tlength = len(post_exp)\n",
    "\n",
    "\t# reading from right to left\n",
    "\tfor i in range(length):\n",
    "\n",
    "\t\t# check if symbol is operator\n",
    "\t\tif (isOperator(post_exp[i])):\n",
    "\n",
    "\t\t\t# pop two operands from stack\n",
    "\t\t\top1 = s[-1]\n",
    "\t\t\ts.pop()\n",
    "\t\t\top2 = s[-1]\n",
    "\t\t\ts.pop()\n",
    "\n",
    "\t\t\t# concat the operands and operator\n",
    "\t\t\ttemp = post_exp[i] + op2 + op1\n",
    "\n",
    "\t\t\t# Push string temp back to stack\n",
    "\t\t\ts.append(temp)\n",
    "\n",
    "\t\t# if symbol is an operand\n",
    "\t\telse:\n",
    "\n",
    "\t\t\t# push the operand to the stack\n",
    "\t\t\ts.append(post_exp[i])\n",
    "\n",
    "\t\n",
    "\tans = \"\"\n",
    "\tfor i in s:\n",
    "\t\tans += i\n",
    "\treturn ans\n",
    "\n",
    "\n",
    "# Driver Code\n",
    "if __name__ == \"__main__\":\n",
    "\n",
    "\tpost_exp = \"AB+CD-\"\n",
    "\t\n",
    "\t# Function call\n",
    "\tprint(\"Prefix : \", postToPre(post_exp))\n",
    "\n",
    "\n"
   ]
  },
  {
   "cell_type": "markdown",
   "id": "virtual-dining",
   "metadata": {},
   "source": [
    "# 7.Write a program to convert prefix expression to infix expression."
   ]
  },
  {
   "cell_type": "code",
   "execution_count": 29,
   "id": "oriental-harbor",
   "metadata": {},
   "outputs": [
    {
     "name": "stdout",
     "output_type": "stream",
     "text": [
      "Infix expression ((A-(B/C))*((A/K)-L))\n"
     ]
    }
   ],
   "source": [
    "def prefixToInfix(prefix):\n",
    "\tstack = []\n",
    "\t\n",
    "\t# read prefix in reverse order\n",
    "\ti = len(prefix) - 1\n",
    "\twhile i >= 0:\n",
    "\t\tif not isOperator(prefix[i]):\n",
    "\t\t\t\n",
    "\t\t\t# symbol is operand\n",
    "\t\t\tstack.append(prefix[i])\n",
    "\t\t\ti -= 1\n",
    "\t\telse:\n",
    "\t\t\n",
    "\t\t\t# symbol is operator\n",
    "\t\t\tstr = \"(\" + stack.pop() + prefix[i] + stack.pop() + \")\"\n",
    "\t\t\tstack.append(str)\n",
    "\t\t\ti -= 1\n",
    "\t\n",
    "\treturn stack.pop()\n",
    "\n",
    "def isOperator(c):\n",
    "\tif c == \"*\" or c == \"+\" or c == \"-\" or c == \"/\" or c == \"^\" or c == \"(\" or c == \")\":\n",
    "\t\treturn True\n",
    "\telse:\n",
    "\t\treturn False\n",
    "\n",
    "# Driver code\n",
    "if __name__==\"__main__\":\n",
    "\tstr = \"*-A/BC-/AKL\"\n",
    "\tprint(\"Infix expression\",prefixToInfix(str))\n"
   ]
  },
  {
   "cell_type": "markdown",
   "id": "alive-grammar",
   "metadata": {},
   "source": [
    "# 8. Write a program to check if all the brackets are closed in a given code snippet."
   ]
  },
  {
   "cell_type": "code",
   "execution_count": 34,
   "id": "tropical-system",
   "metadata": {},
   "outputs": [
    {
     "name": "stdout",
     "output_type": "stream",
     "text": [
      "All the brackets are not closed\n"
     ]
    }
   ],
   "source": [
    "\n",
    "def areBracketsBalanced(expr):\n",
    "\tstack = []\n",
    "\n",
    "\t# Traversing the Expression\n",
    "\tfor char in expr:\n",
    "\t\tif char in [\"(\", \"{\", \"[\"]:\n",
    "\n",
    "\t\t\t# Push the element in the stack\n",
    "\t\t\tstack.append(char)\n",
    "\t\telse:\n",
    "\n",
    "\t\t\t# IF current character is not opening\n",
    "\t\t\t# bracket, then it must be closing.\n",
    "\t\t\t# So stack cannot be empty at this point.\n",
    "\t\t\tif not stack:\n",
    "\t\t\t\treturn False\n",
    "\t\t\tcurrent_char = stack.pop()\n",
    "\t\t\tif current_char == '(':\n",
    "\t\t\t\tif char != \")\":\n",
    "\t\t\t\t\treturn False\n",
    "\t\t\tif current_char == '{':\n",
    "\t\t\t\tif char != \"}\":\n",
    "\t\t\t\t\treturn False\n",
    "\t\t\tif current_char == '[':\n",
    "\t\t\t\tif char != \"]\":\n",
    "\t\t\t\t\treturn False\n",
    "\n",
    "\t# Check Empty Stack\n",
    "\tif stack:\n",
    "\t\treturn False\n",
    "\treturn True\n",
    "\n",
    "\n",
    "# Driver Code\n",
    "if __name__ == \"__main__\":\n",
    "\texpr = \"{()[]\"\n",
    "\n",
    "\t# Function call\n",
    "\tif areBracketsBalanced(expr):\n",
    "\t\tprint(\"All the brackets are closed\")\n",
    "\telse:\n",
    "\t\tprint(\"All the brackets are not closed\")\n"
   ]
  },
  {
   "cell_type": "markdown",
   "id": "vulnerable-shower",
   "metadata": {},
   "source": [
    "#  9.Write a program to reverse a stack"
   ]
  },
  {
   "cell_type": "code",
   "execution_count": 35,
   "id": "likely-cannon",
   "metadata": {},
   "outputs": [
    {
     "name": "stdout",
     "output_type": "stream",
     "text": [
      "Original Stack\n",
      "5\n",
      "4\n",
      "3\n",
      "2\n",
      "1\n",
      "\n",
      "Stack after Reversing\n",
      "1\n",
      "2\n",
      "3\n",
      "4\n",
      "5\n"
     ]
    }
   ],
   "source": [
    "\n",
    "class Stack:\n",
    "\n",
    "\t# create empty list\n",
    "\tdef __init__(self):\n",
    "\t\tself.Elements = []\n",
    "\t\t\n",
    "\t# push() for insert an element\n",
    "\tdef push(self, value):\n",
    "\t\tself.Elements.append(value)\n",
    "\t\n",
    "\t# pop() for remove an element\n",
    "\tdef pop(self):\n",
    "\t\treturn self.Elements.pop()\n",
    "\t\n",
    "\t# empty() check the stack is empty of not\n",
    "\tdef empty(self):\n",
    "\t\treturn self.Elements == []\n",
    "\t\n",
    "\t# show() display stack\n",
    "\tdef show(self):\n",
    "\t\tfor value in reversed(self.Elements):\n",
    "\t\t\tprint(value)\n",
    "\n",
    "# Insert_Bottom() insert value at bottom\n",
    "def BottomInsert(s, value):\n",
    "\n",
    "\t# check the stack is empty or not\n",
    "\tif s.empty():\n",
    "\t\t\n",
    "\t\t# if stack is empty then call\n",
    "\t\t# push() method.\n",
    "\t\ts.push(value)\n",
    "\t\t\n",
    "\t# if stack is not empty then execute\n",
    "\t# else block\n",
    "\telse:\n",
    "\t\tpopped = s.pop()\n",
    "\t\tBottomInsert(s, value)\n",
    "\t\ts.push(popped)\n",
    "\n",
    "# Reverse() reverse the stack\n",
    "def Reverse(s):\n",
    "\tif s.empty():\n",
    "\t\tpass\n",
    "\telse:\n",
    "\t\tpopped = s.pop()\n",
    "\t\tReverse(s)\n",
    "\t\tBottomInsert(s, popped)\n",
    "\n",
    "\n",
    "# create object of stack class\n",
    "stk = Stack()\n",
    "\n",
    "stk.push(1)\n",
    "stk.push(2)\n",
    "stk.push(3)\n",
    "stk.push(4)\n",
    "stk.push(5)\n",
    "\n",
    "print(\"Original Stack\")\n",
    "stk.show()\n",
    "\n",
    "print(\"\\nStack after Reversing\")\n",
    "Reverse(stk)\n",
    "stk.show()\n"
   ]
  },
  {
   "cell_type": "markdown",
   "id": "younger-preliminary",
   "metadata": {},
   "source": [
    "#  10.Write a program to find the smallest number in using a stack."
   ]
  },
  {
   "cell_type": "code",
   "execution_count": 38,
   "id": "limited-placement",
   "metadata": {},
   "outputs": [
    {
     "name": "stdout",
     "output_type": "stream",
     "text": [
      "Number Inserted: 3\n",
      "Number Inserted: 6\n",
      "Number Inserted: 1\n",
      "Number Inserted: 5\n",
      "Minimum Element in the stack is: 1\n",
      "Number Inserted: 2\n",
      "Number Inserted: 0\n",
      "Minimum Element in the stack is: 0\n",
      "Top Most Element Removed :0 \n",
      "Minimum Element in the stack is: 1\n",
      "Top Most Element Removed : 2\n",
      "Top Most Element is: 5\n"
     ]
    }
   ],
   "source": [
    "# Class to make a Node\n",
    "class Node:\n",
    "\t# Constructor which assign argument to nade's value\n",
    "\tdef __init__(self, value):\n",
    "\t\tself.value = value\n",
    "\t\tself.next = None\n",
    "\n",
    "\t# This method returns the string representation of the object.\n",
    "\tdef __str__(self):\n",
    "\t\treturn \"Node({})\".format(self.value)\n",
    "\t\n",
    "\t# __repr__ is same as __str__\n",
    "\t__repr__ = __str__\n",
    "\n",
    "\n",
    "class Stack:\n",
    "\t# Stack Constructor initialise top of stack and counter.\n",
    "\tdef __init__(self):\n",
    "\t\tself.top = None\n",
    "\t\tself.count = 0\n",
    "\t\tself.minimum = None\n",
    "\t\t\n",
    "\t# This method returns the string representation of the object (stack).\n",
    "\tdef __str__(self):\n",
    "\t\ttemp = self.top\n",
    "\t\tout = []\n",
    "\t\twhile temp:\n",
    "\t\t\tout.append(str(temp.value))\n",
    "\t\t\ttemp = temp.next\n",
    "\t\tout = '\\n'.join(out)\n",
    "\t\treturn ('Top {} \\n\\nStack :\\n{}'.format(self.top,out))\n",
    "\t\t\n",
    "\t# __repr__ is same as __str__\n",
    "\t__repr__=__str__\n",
    "\t\n",
    "\t# This method is used to get minimum element of stack\n",
    "\tdef getMin(self):\n",
    "\t\tif self.top is None:\n",
    "\t\t\treturn \"Stack is empty\"\n",
    "\t\telse:\n",
    "\t\t\tprint(\"Minimum Element in the stack is: {}\" .format(self.minimum))\n",
    "\n",
    "\n",
    "\n",
    "\t# Method to check if Stack is Empty or not\n",
    "\tdef isEmpty(self):\n",
    "\t\t# If top equals to None then stack is empty\n",
    "\t\tif self.top == None:\n",
    "\t\t\treturn True\n",
    "\t\telse:\n",
    "\t\t# If top not equal to None then stack is empty\n",
    "\t\t\treturn False\n",
    "\n",
    "\t# This method returns length of stack\t\n",
    "\tdef __len__(self):\n",
    "\t\tself.count = 0\n",
    "\t\ttempNode = self.top\n",
    "\t\twhile tempNode:\n",
    "\t\t\ttempNode = tempNode.next\n",
    "\t\t\tself.count+=1\n",
    "\t\treturn self.count\n",
    "\n",
    "\t# This method returns top of stack\t\n",
    "\tdef peek(self):\n",
    "\t\tif self.top is None:\n",
    "\t\t\tprint (\"Stack is empty\")\n",
    "\t\telse:\n",
    "\t\t\tif self.top.value < self.minimum:\n",
    "\t\t\t\tprint(\"Top Most Element is: {}\" .format(self.minimum))\n",
    "\t\t\telse:\n",
    "\t\t\t\tprint(\"Top Most Element is: {}\" .format(self.top.value))\n",
    "\n",
    "\t# This method is used to add node to stack\n",
    "\tdef push(self,value):\n",
    "\t\tif self.top is None:\n",
    "\t\t\tself.top = Node(value)\n",
    "\t\t\tself.minimum = value\n",
    "\t\t\n",
    "\t\telif value < self.minimum:\n",
    "\t\t\ttemp = (2 * value) - self.minimum\n",
    "\t\t\tnew_node = Node(temp)\n",
    "\t\t\tnew_node.next = self.top\n",
    "\t\t\tself.top = new_node\n",
    "\t\t\tself.minimum = value\n",
    "\t\telse:\n",
    "\t\t\tnew_node = Node(value)\n",
    "\t\t\tnew_node.next = self.top\n",
    "\t\t\tself.top = new_node\n",
    "\t\tprint(\"Number Inserted: {}\" .format(value))\n",
    "\n",
    "\t# This method is used to pop top of stack\n",
    "\tdef pop(self):\n",
    "\t\tif self.top is None:\n",
    "\t\t\tprint( \"Stack is empty\")\n",
    "\t\telse:\n",
    "\t\t\tremovedNode = self.top.value\n",
    "\t\t\tself.top = self.top.next\n",
    "\t\t\tif removedNode < self.minimum:\n",
    "\t\t\t\tprint (\"Top Most Element Removed :{} \" .format(self.minimum))\n",
    "\t\t\t\tself.minimum = ( ( 2 * self.minimum ) - removedNode )\n",
    "\t\t\telse:\n",
    "\t\t\t\tprint (\"Top Most Element Removed : {}\" .format(removedNode))\n",
    "\n",
    "\t\t\t\t\n",
    "\t\t\t\n",
    "\t\n",
    "# Driver program to test above class\n",
    "stack = Stack()\n",
    "\n",
    "stack.push(3)\n",
    "stack.push(6)\n",
    "stack.push(1)\n",
    "stack.push(5)\n",
    "stack.getMin()\n",
    "stack.push(2)\n",
    "stack.push(0)\n",
    "stack.getMin()\t\n",
    "stack.pop()\n",
    "stack.getMin()\n",
    "stack.pop()\n",
    "stack.peek()\n"
   ]
  },
  {
   "cell_type": "code",
   "execution_count": null,
   "id": "indoor-privacy",
   "metadata": {},
   "outputs": [],
   "source": []
  }
 ],
 "metadata": {
  "kernelspec": {
   "display_name": "Python 3",
   "language": "python",
   "name": "python3"
  },
  "language_info": {
   "codemirror_mode": {
    "name": "ipython",
    "version": 3
   },
   "file_extension": ".py",
   "mimetype": "text/x-python",
   "name": "python",
   "nbconvert_exporter": "python",
   "pygments_lexer": "ipython3",
   "version": "3.9.5"
  }
 },
 "nbformat": 4,
 "nbformat_minor": 5
}
